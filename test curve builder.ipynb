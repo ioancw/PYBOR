{
 "cells": [
  {
   "cell_type": "markdown",
   "metadata": {},
   "source": [
    "# PYBOR\n",
    "PYBOR is a multi-curve interest rate framework and risk engine based on multivariate optimization techniques, written in Python.\n",
    "\n",
    "**Copyright &copy; 2017 Ondrej Martinsky, All rights reserved**\n",
    "\n",
    "[www.github.com/omartinsky/pybor](https://github.com/omartinsky/pybor)"
   ]
  },
  {
   "cell_type": "code",
   "execution_count": 1,
   "metadata": {},
   "outputs": [
    {
     "name": "stdout",
     "output_type": "stream",
     "text": [
      "Using matplotlib backend: MacOSX\n",
      "Populating the interactive namespace from numpy and matplotlib\n"
     ]
    }
   ],
   "source": [
    "%pylab\n",
    "%matplotlib inline\n",
    "%run jupyter_helpers\n",
    "%run yc_framework\n",
    "figure_width = 16"
   ]
  },
  {
   "cell_type": "markdown",
   "metadata": {},
   "source": [
    "## Pricing Curve Map\n",
    "Generate pricing curvemap using stochastic short-rate model $dr_t=a(b-r_t)dt + \\sigma dW_t$ for curves and tenor/cross-currency basis spreads. This will be our starting point, the curves inside this curvemap will be used only to reprice market instruments."
   ]
  },
  {
   "cell_type": "code",
   "execution_count": 2,
   "metadata": {},
   "outputs": [],
   "source": [
    "eval_date = create_date('2018-09-25')"
   ]
  },
  {
   "cell_type": "code",
   "execution_count": 3,
   "metadata": {},
   "outputs": [],
   "source": [
    "class CurveConstructor:\n",
    "    @staticmethod\n",
    "    def FromShortRateModel(curve_id, times, r0, speed, mean, sigma, interpolation):\n",
    "        import random\n",
    "        times = array(times)\n",
    "        assert_type(r0, float)\n",
    "        assert_type(speed, float)\n",
    "        assert_type(mean, float)\n",
    "        assert_type(sigma, float)\n",
    "        assert_type(interpolation, InterpolationMode)\n",
    "        r = r0\n",
    "        rates = []\n",
    "        dts = times[1:] - times[:-1]\n",
    "        dts = dts / 365.\n",
    "        for dt in dts:\n",
    "            rates.append(r)\n",
    "            dr = speed * (mean - r) * dt + sigma * random.gauss(0, 1) * dt ** .5\n",
    "            r += dr\n",
    "        rates = array(rates)\n",
    "        dfs_fwd = exp(-rates * dts)\n",
    "        dfs = cumprod(dfs_fwd)\n",
    "        return Curve(curve_id, times[0], times[1:], dfs, interpolation)"
   ]
  },
  {
   "cell_type": "code",
   "execution_count": 4,
   "metadata": {},
   "outputs": [],
   "source": [
    "def generate_pricing_curvemap(eval_date):\n",
    "    random.seed(0)\n",
    "    pricing_curvemap = CurveMap()\n",
    "    t = linspace(eval_date+0, eval_date+365*40, 7)\n",
    "    def createCurve(name, r0, speed, mean, sigma):\n",
    "        return CurveConstructor.FromShortRateModel(name, t, r0, speed, mean, sigma, interpolation=InterpolationMode.CUBIC_LOGDF)\n",
    "    \n",
    "    def createCurveFromSpread(baseCurve, name, r0, speed, mean, sigma):\n",
    "        out = createCurve(name, r0, speed, mean, sigma)\n",
    "        out.add_another_curve(baseCurve)\n",
    "        return out\n",
    "    \n",
    "    u3m = createCurve('USDLIBOR3M', 0.02, 0.03, 0.035, 5e-4)\n",
    "    u6m = createCurveFromSpread(u3m, 'USDLIBOR6M', 0.01, 0.03, 0.011, 5e-4)\n",
    "    u12m = createCurveFromSpread(u6m, 'USDLIBOR12M', 0.01, 0.03, 0.011, 5e-4)\n",
    "    g3m = createCurveFromSpread(u3m, 'GBPLIBOR3M', 0.03, 0.03, 0.0, 5e-4)\n",
    "    u1b = createCurve('USD-USDOIS', 0.01, 0.03, 0.011, 5e-4)\n",
    "    g1b = createCurveFromSpread(u1b, 'GBP-GBPSONIA', 0.005, 0.03, 0.005, 5e-4)\n",
    "    gu1b = createCurveFromSpread(u1b, 'GBP-USDOIS', 0.001, 0.03, 0.001, 5e-4)\n",
    "    pricing_curvemap.add_curve(u3m)\n",
    "    pricing_curvemap.add_curve(u6m)\n",
    "    pricing_curvemap.add_curve(u12m)\n",
    "    pricing_curvemap.add_curve(g3m)\n",
    "    pricing_curvemap.add_curve(g1b)\n",
    "    pricing_curvemap.add_curve(u1b)\n",
    "    pricing_curvemap.add_curve(gu1b)\n",
    "    return pricing_curvemap"
   ]
  },
  {
   "cell_type": "code",
   "execution_count": 5,
   "metadata": {},
   "outputs": [
    {
     "data": {
      "text/plain": [
       "array([0.87517332, 0.74470161, 0.63218756, 0.53236615, 0.44141804,\n",
       "       0.36584206])"
      ]
     },
     "execution_count": 5,
     "metadata": {},
     "output_type": "execute_result"
    }
   ],
   "source": [
    "pricing_curvemap = generate_pricing_curvemap(eval_date)\n",
    "usd3m = pricing_curvemap.curves_['USDLIBOR3M']\n",
    "type(usd3m)\n",
    "usd3m.get_all_dofs()"
   ]
  },
  {
   "cell_type": "markdown",
   "metadata": {},
   "source": [
    "## Curve Builder\n",
    "Create the curve builder. Definitions of curves and market instruments from which these curves are built are loaded from the excel spreadsheet"
   ]
  },
  {
   "cell_type": "code",
   "execution_count": 6,
   "metadata": {
    "scrolled": false
   },
   "outputs": [],
   "source": [
    "curve_builder = CurveBuilder('engine_usd_gbp.xlsx', eval_date)"
   ]
  },
  {
   "cell_type": "markdown",
   "metadata": {},
   "source": [
    "### Instrument Repricing\n",
    "Use the curve builder (specifically instrument definitions which it contains) to **reprice** instruments from previously created **pricing curve map**.\n",
    "\n",
    "Instrument *prices* are returned in a structure called *price ladder*"
   ]
  },
  {
   "cell_type": "code",
   "execution_count": 8,
   "metadata": {},
   "outputs": [
    {
     "ename": "BaseException",
     "evalue": "Unable to get discount factor for dates [43368..57978] from curve with dates range [43368..57968]",
     "output_type": "error",
     "traceback": [
      "\u001b[0;31m---------------------------------------------------------------------------\u001b[0m",
      "\u001b[0;31mValueError\u001b[0m                                Traceback (most recent call last)",
      "\u001b[0;32m~/PYBOR/yc_curve.py\u001b[0m in \u001b[0;36mget_df\u001b[0;34m(self, t)\u001b[0m\n\u001b[1;32m    155\u001b[0m         \u001b[0;32mtry\u001b[0m\u001b[0;34m:\u001b[0m\u001b[0;34m\u001b[0m\u001b[0m\n\u001b[0;32m--> 156\u001b[0;31m             \u001b[0;32mreturn\u001b[0m \u001b[0mself\u001b[0m\u001b[0;34m.\u001b[0m\u001b[0minterpolator_\u001b[0m\u001b[0;34m.\u001b[0m\u001b[0mvalue\u001b[0m\u001b[0;34m(\u001b[0m\u001b[0mt\u001b[0m\u001b[0;34m)\u001b[0m\u001b[0;34m\u001b[0m\u001b[0m\n\u001b[0m\u001b[1;32m    157\u001b[0m         \u001b[0;32mexcept\u001b[0m \u001b[0mBaseException\u001b[0m \u001b[0;32mas\u001b[0m \u001b[0mex\u001b[0m\u001b[0;34m:\u001b[0m\u001b[0;34m\u001b[0m\u001b[0m\n",
      "\u001b[0;32m~/PYBOR/yc_curve.py\u001b[0m in \u001b[0;36mvalue\u001b[0;34m(self, t)\u001b[0m\n\u001b[1;32m     92\u001b[0m     \u001b[0;32mdef\u001b[0m \u001b[0mvalue\u001b[0m\u001b[0;34m(\u001b[0m\u001b[0mself\u001b[0m\u001b[0;34m,\u001b[0m \u001b[0mt\u001b[0m\u001b[0;34m)\u001b[0m\u001b[0;34m:\u001b[0m\u001b[0;34m\u001b[0m\u001b[0m\n\u001b[0;32m---> 93\u001b[0;31m         \u001b[0;32mreturn\u001b[0m \u001b[0mexp\u001b[0m\u001b[0;34m(\u001b[0m\u001b[0mself\u001b[0m\u001b[0;34m.\u001b[0m\u001b[0minterp\u001b[0m\u001b[0;34m(\u001b[0m\u001b[0mt\u001b[0m\u001b[0;34m)\u001b[0m\u001b[0;34m)\u001b[0m\u001b[0;34m\u001b[0m\u001b[0m\n\u001b[0m\u001b[1;32m     94\u001b[0m \u001b[0;34m\u001b[0m\u001b[0m\n",
      "\u001b[0;32m~/anaconda3/lib/python3.6/site-packages/scipy/interpolate/polyint.py\u001b[0m in \u001b[0;36m__call__\u001b[0;34m(self, x)\u001b[0m\n\u001b[1;32m     78\u001b[0m         \u001b[0mx\u001b[0m\u001b[0;34m,\u001b[0m \u001b[0mx_shape\u001b[0m \u001b[0;34m=\u001b[0m \u001b[0mself\u001b[0m\u001b[0;34m.\u001b[0m\u001b[0m_prepare_x\u001b[0m\u001b[0;34m(\u001b[0m\u001b[0mx\u001b[0m\u001b[0;34m)\u001b[0m\u001b[0;34m\u001b[0m\u001b[0m\n\u001b[0;32m---> 79\u001b[0;31m         \u001b[0my\u001b[0m \u001b[0;34m=\u001b[0m \u001b[0mself\u001b[0m\u001b[0;34m.\u001b[0m\u001b[0m_evaluate\u001b[0m\u001b[0;34m(\u001b[0m\u001b[0mx\u001b[0m\u001b[0;34m)\u001b[0m\u001b[0;34m\u001b[0m\u001b[0m\n\u001b[0m\u001b[1;32m     80\u001b[0m         \u001b[0;32mreturn\u001b[0m \u001b[0mself\u001b[0m\u001b[0;34m.\u001b[0m\u001b[0m_finish_y\u001b[0m\u001b[0;34m(\u001b[0m\u001b[0my\u001b[0m\u001b[0;34m,\u001b[0m \u001b[0mx_shape\u001b[0m\u001b[0;34m)\u001b[0m\u001b[0;34m\u001b[0m\u001b[0m\n",
      "\u001b[0;32m~/anaconda3/lib/python3.6/site-packages/scipy/interpolate/interpolate.py\u001b[0m in \u001b[0;36m_evaluate\u001b[0;34m(self, x_new)\u001b[0m\n\u001b[1;32m    663\u001b[0m         \u001b[0;32mif\u001b[0m \u001b[0;32mnot\u001b[0m \u001b[0mself\u001b[0m\u001b[0;34m.\u001b[0m\u001b[0m_extrapolate\u001b[0m\u001b[0;34m:\u001b[0m\u001b[0;34m\u001b[0m\u001b[0m\n\u001b[0;32m--> 664\u001b[0;31m             \u001b[0mbelow_bounds\u001b[0m\u001b[0;34m,\u001b[0m \u001b[0mabove_bounds\u001b[0m \u001b[0;34m=\u001b[0m \u001b[0mself\u001b[0m\u001b[0;34m.\u001b[0m\u001b[0m_check_bounds\u001b[0m\u001b[0;34m(\u001b[0m\u001b[0mx_new\u001b[0m\u001b[0;34m)\u001b[0m\u001b[0;34m\u001b[0m\u001b[0m\n\u001b[0m\u001b[1;32m    665\u001b[0m             \u001b[0;32mif\u001b[0m \u001b[0mlen\u001b[0m\u001b[0;34m(\u001b[0m\u001b[0my_new\u001b[0m\u001b[0;34m)\u001b[0m \u001b[0;34m>\u001b[0m \u001b[0;36m0\u001b[0m\u001b[0;34m:\u001b[0m\u001b[0;34m\u001b[0m\u001b[0m\n",
      "\u001b[0;32m~/anaconda3/lib/python3.6/site-packages/scipy/interpolate/interpolate.py\u001b[0m in \u001b[0;36m_check_bounds\u001b[0;34m(self, x_new)\u001b[0m\n\u001b[1;32m    695\u001b[0m         \u001b[0;32mif\u001b[0m \u001b[0mself\u001b[0m\u001b[0;34m.\u001b[0m\u001b[0mbounds_error\u001b[0m \u001b[0;32mand\u001b[0m \u001b[0mabove_bounds\u001b[0m\u001b[0;34m.\u001b[0m\u001b[0many\u001b[0m\u001b[0;34m(\u001b[0m\u001b[0;34m)\u001b[0m\u001b[0;34m:\u001b[0m\u001b[0;34m\u001b[0m\u001b[0m\n\u001b[0;32m--> 696\u001b[0;31m             raise ValueError(\"A value in x_new is above the interpolation \"\n\u001b[0m\u001b[1;32m    697\u001b[0m                              \"range.\")\n",
      "\u001b[0;31mValueError\u001b[0m: A value in x_new is above the interpolation range.",
      "\nThe above exception was the direct cause of the following exception:\n",
      "\u001b[0;31mBaseException\u001b[0m                             Traceback (most recent call last)",
      "\u001b[0;32m<ipython-input-8-6b8541cb3d58>\u001b[0m in \u001b[0;36m<module>\u001b[0;34m()\u001b[0m\n\u001b[0;32m----> 1\u001b[0;31m \u001b[0mprice_ladder\u001b[0m \u001b[0;34m=\u001b[0m \u001b[0mcurve_builder\u001b[0m\u001b[0;34m.\u001b[0m\u001b[0mreprice\u001b[0m\u001b[0;34m(\u001b[0m\u001b[0mpricing_curvemap\u001b[0m\u001b[0;34m)\u001b[0m\u001b[0;34m\u001b[0m\u001b[0m\n\u001b[0m",
      "\u001b[0;32m~/PYBOR/yc_curvebuilder.py\u001b[0m in \u001b[0;36mreprice\u001b[0;34m(self, curvemap)\u001b[0m\n\u001b[1;32m    205\u001b[0m             \u001b[0;32mfor\u001b[0m \u001b[0minstrument\u001b[0m \u001b[0;32min\u001b[0m \u001b[0mcurve_template\u001b[0m\u001b[0;34m.\u001b[0m\u001b[0minstruments\u001b[0m\u001b[0;34m:\u001b[0m\u001b[0;34m\u001b[0m\u001b[0m\n\u001b[1;32m    206\u001b[0m                 \u001b[0;32mif\u001b[0m \u001b[0;34m(\u001b[0m\u001b[0mcurvemap\u001b[0m\u001b[0;34m)\u001b[0m\u001b[0;34m:\u001b[0m\u001b[0;34m\u001b[0m\u001b[0m\n\u001b[0;32m--> 207\u001b[0;31m                     \u001b[0mrate\u001b[0m \u001b[0;34m=\u001b[0m \u001b[0minstrument\u001b[0m\u001b[0;34m.\u001b[0m\u001b[0mcalc_par_rate\u001b[0m\u001b[0;34m(\u001b[0m\u001b[0mcurvemap\u001b[0m\u001b[0;34m)\u001b[0m\u001b[0;34m\u001b[0m\u001b[0m\n\u001b[0m\u001b[1;32m    208\u001b[0m                     \u001b[0mout\u001b[0m\u001b[0;34m[\u001b[0m\u001b[0minstrument\u001b[0m\u001b[0;34m.\u001b[0m\u001b[0mname_\u001b[0m\u001b[0;34m]\u001b[0m \u001b[0;34m=\u001b[0m \u001b[0minstrument\u001b[0m\u001b[0;34m.\u001b[0m\u001b[0mprice_from_par_rate\u001b[0m\u001b[0;34m(\u001b[0m\u001b[0mrate\u001b[0m\u001b[0;34m)\u001b[0m\u001b[0;34m\u001b[0m\u001b[0m\n\u001b[1;32m    209\u001b[0m                 \u001b[0;32melse\u001b[0m\u001b[0;34m:\u001b[0m \u001b[0;31m# If curvemap is not provided, generated price ladder will contain zeros.\u001b[0m\u001b[0;34m\u001b[0m\u001b[0m\n",
      "\u001b[0;32m~/PYBOR/instruments/swap.py\u001b[0m in \u001b[0;36mcalc_par_rate\u001b[0;34m(self, curvemap)\u001b[0m\n\u001b[1;32m     63\u001b[0m         \u001b[0mfcurve\u001b[0m \u001b[0;34m=\u001b[0m \u001b[0mcurvemap\u001b[0m\u001b[0;34m[\u001b[0m\u001b[0mself\u001b[0m\u001b[0;34m.\u001b[0m\u001b[0mcurve_forecast_\u001b[0m\u001b[0;34m]\u001b[0m\u001b[0;34m\u001b[0m\u001b[0m\n\u001b[1;32m     64\u001b[0m         \u001b[0mdcurve\u001b[0m \u001b[0;34m=\u001b[0m \u001b[0mcurvemap\u001b[0m\u001b[0;34m[\u001b[0m\u001b[0mself\u001b[0m\u001b[0;34m.\u001b[0m\u001b[0mcurve_discount_\u001b[0m\u001b[0;34m]\u001b[0m\u001b[0;34m\u001b[0m\u001b[0m\n\u001b[0;32m---> 65\u001b[0;31m         \u001b[0mr\u001b[0m \u001b[0;34m=\u001b[0m \u001b[0mfcurve\u001b[0m\u001b[0;34m.\u001b[0m\u001b[0mget_fwd_rate_aligned\u001b[0m\u001b[0;34m(\u001b[0m\u001b[0mself\u001b[0m\u001b[0;34m.\u001b[0m\u001b[0maccruals_float_\u001b[0m\u001b[0;34m,\u001b[0m \u001b[0mCouponFreq\u001b[0m\u001b[0;34m.\u001b[0m\u001b[0mZERO\u001b[0m\u001b[0;34m,\u001b[0m \u001b[0mself\u001b[0m\u001b[0;34m.\u001b[0m\u001b[0mconvention_float_\u001b[0m\u001b[0;34m.\u001b[0m\u001b[0mdcc\u001b[0m\u001b[0;34m)\u001b[0m\u001b[0;34m\u001b[0m\u001b[0m\n\u001b[0m\u001b[1;32m     66\u001b[0m         \u001b[0mdf\u001b[0m \u001b[0;34m=\u001b[0m \u001b[0mdcurve\u001b[0m\u001b[0;34m.\u001b[0m\u001b[0mget_df\u001b[0m\u001b[0;34m(\u001b[0m\u001b[0mself\u001b[0m\u001b[0;34m.\u001b[0m\u001b[0maccruals_fixed_\u001b[0m\u001b[0;34m)\u001b[0m\u001b[0;34m\u001b[0m\u001b[0m\n\u001b[1;32m     67\u001b[0m         \u001b[0mnominator\u001b[0m \u001b[0;34m=\u001b[0m \u001b[0msum\u001b[0m\u001b[0;34m(\u001b[0m\u001b[0mr\u001b[0m \u001b[0;34m*\u001b[0m \u001b[0mself\u001b[0m\u001b[0;34m.\u001b[0m\u001b[0mdcf_float_\u001b[0m \u001b[0;34m*\u001b[0m \u001b[0mdf\u001b[0m\u001b[0;34m[\u001b[0m\u001b[0;36m1\u001b[0m\u001b[0;34m:\u001b[0m\u001b[0;34m]\u001b[0m\u001b[0;34m)\u001b[0m\u001b[0;34m\u001b[0m\u001b[0m\n",
      "\u001b[0;32m~/PYBOR/yc_curve.py\u001b[0m in \u001b[0;36mget_fwd_rate_aligned\u001b[0;34m(self, t, freq, dcc)\u001b[0m\n\u001b[1;32m    177\u001b[0m     \u001b[0;32mdef\u001b[0m \u001b[0mget_fwd_rate_aligned\u001b[0m\u001b[0;34m(\u001b[0m\u001b[0mself\u001b[0m\u001b[0;34m,\u001b[0m \u001b[0mt\u001b[0m\u001b[0;34m,\u001b[0m \u001b[0mfreq\u001b[0m\u001b[0;34m,\u001b[0m \u001b[0mdcc\u001b[0m\u001b[0;34m)\u001b[0m\u001b[0;34m:\u001b[0m\u001b[0;34m\u001b[0m\u001b[0m\n\u001b[1;32m    178\u001b[0m         \u001b[0;31m# Slightly faster version which relies on the fact that calculation periods are aligned (no overlaps, no gaps)\u001b[0m\u001b[0;34m\u001b[0m\u001b[0;34m\u001b[0m\u001b[0m\n\u001b[0;32m--> 179\u001b[0;31m         \u001b[0mdfs\u001b[0m \u001b[0;34m=\u001b[0m \u001b[0mself\u001b[0m\u001b[0;34m.\u001b[0m\u001b[0mget_df\u001b[0m\u001b[0;34m(\u001b[0m\u001b[0mt\u001b[0m\u001b[0;34m)\u001b[0m\u001b[0;34m\u001b[0m\u001b[0m\n\u001b[0m\u001b[1;32m    180\u001b[0m         \u001b[0mt1\u001b[0m \u001b[0;34m=\u001b[0m \u001b[0mt\u001b[0m\u001b[0;34m[\u001b[0m\u001b[0;34m:\u001b[0m\u001b[0;34m-\u001b[0m\u001b[0;36m1\u001b[0m\u001b[0;34m]\u001b[0m\u001b[0;34m\u001b[0m\u001b[0m\n\u001b[1;32m    181\u001b[0m         \u001b[0mt2\u001b[0m \u001b[0;34m=\u001b[0m \u001b[0mt\u001b[0m\u001b[0;34m[\u001b[0m\u001b[0;36m1\u001b[0m\u001b[0;34m:\u001b[0m\u001b[0;34m]\u001b[0m\u001b[0;34m\u001b[0m\u001b[0m\n",
      "\u001b[0;32m~/PYBOR/yc_curve.py\u001b[0m in \u001b[0;36mget_df\u001b[0;34m(self, t)\u001b[0m\n\u001b[1;32m    156\u001b[0m             \u001b[0;32mreturn\u001b[0m \u001b[0mself\u001b[0m\u001b[0;34m.\u001b[0m\u001b[0minterpolator_\u001b[0m\u001b[0;34m.\u001b[0m\u001b[0mvalue\u001b[0m\u001b[0;34m(\u001b[0m\u001b[0mt\u001b[0m\u001b[0;34m)\u001b[0m\u001b[0;34m\u001b[0m\u001b[0m\n\u001b[1;32m    157\u001b[0m         \u001b[0;32mexcept\u001b[0m \u001b[0mBaseException\u001b[0m \u001b[0;32mas\u001b[0m \u001b[0mex\u001b[0m\u001b[0;34m:\u001b[0m\u001b[0;34m\u001b[0m\u001b[0m\n\u001b[0;32m--> 158\u001b[0;31m             \u001b[0;32mraise\u001b[0m \u001b[0mBaseException\u001b[0m\u001b[0;34m(\u001b[0m\u001b[0;34m\"Unable to get discount factor for dates [%i..%i] from curve with dates range [%i..%i]\"\u001b[0m \u001b[0;34m%\u001b[0m \u001b[0;34m(\u001b[0m\u001b[0mt\u001b[0m\u001b[0;34m[\u001b[0m\u001b[0;36m0\u001b[0m\u001b[0;34m]\u001b[0m\u001b[0;34m,\u001b[0m\u001b[0mt\u001b[0m\u001b[0;34m[\u001b[0m\u001b[0;34m-\u001b[0m\u001b[0;36m1\u001b[0m\u001b[0;34m]\u001b[0m\u001b[0;34m,\u001b[0m\u001b[0mself\u001b[0m\u001b[0;34m.\u001b[0m\u001b[0mtimes_\u001b[0m\u001b[0;34m[\u001b[0m\u001b[0;36m0\u001b[0m\u001b[0;34m]\u001b[0m\u001b[0;34m,\u001b[0m \u001b[0mself\u001b[0m\u001b[0;34m.\u001b[0m\u001b[0mtimes_\u001b[0m\u001b[0;34m[\u001b[0m\u001b[0;34m-\u001b[0m\u001b[0;36m1\u001b[0m\u001b[0;34m]\u001b[0m\u001b[0;34m)\u001b[0m\u001b[0;34m)\u001b[0m \u001b[0;32mfrom\u001b[0m \u001b[0mex\u001b[0m\u001b[0;34m\u001b[0m\u001b[0m\n\u001b[0m\u001b[1;32m    159\u001b[0m \u001b[0;34m\u001b[0m\u001b[0m\n\u001b[1;32m    160\u001b[0m     \u001b[0;32mdef\u001b[0m \u001b[0mget_zero_rate\u001b[0m\u001b[0;34m(\u001b[0m\u001b[0mself\u001b[0m\u001b[0;34m,\u001b[0m \u001b[0mt\u001b[0m\u001b[0;34m,\u001b[0m \u001b[0mfreq\u001b[0m\u001b[0;34m,\u001b[0m \u001b[0mdcc\u001b[0m\u001b[0;34m)\u001b[0m\u001b[0;34m:\u001b[0m\u001b[0;34m\u001b[0m\u001b[0m\n",
      "\u001b[0;31mBaseException\u001b[0m: Unable to get discount factor for dates [43368..57978] from curve with dates range [43368..57968]"
     ]
    }
   ],
   "source": [
    "price_ladder = curve_builder.reprice(pricing_curvemap)"
   ]
  },
  {
   "cell_type": "markdown",
   "metadata": {},
   "source": [
    "### Display price ladder for a specific curve"
   ]
  },
  {
   "cell_type": "code",
   "execution_count": null,
   "metadata": {
    "scrolled": false
   },
   "outputs": [],
   "source": [
    "# Display:\n",
    "figsize(figure_width, 4)\n",
    "price_ladder.sublist('USDLIBOR3M').dataframe()\n",
    "type(price_ladder)\n"
   ]
  },
  {
   "cell_type": "markdown",
   "metadata": {},
   "source": [
    "### Display instrument par-rates\n",
    "Every instrument type has a specific relationship between the quoted price $P$ and the par-rate $r$. For instance:\n",
    "\n",
    "For interest rate swaps, $P = 100 \\times r$\n",
    "\n",
    "For interest rate futures, $P = 10000 \\times (1 - r)$\n",
    "\n",
    "The relationship between interest rate curve in a **zero-rate** space and instrument **par-rates** is often a source of confusion for many people. The below is a graph which illustrates the difference between USDLIBOR3M pricing curve's zero rates vs. par-rates of instruments (e.g. deposits, futures, swaps), which are repriced using this curve.\n",
    "As we can see, only the par-rates of money market (deposit) instruments correspond to the curve points plotted in a zero-rate space."
   ]
  },
  {
   "cell_type": "code",
   "execution_count": null,
   "metadata": {},
   "outputs": [],
   "source": [
    "figsize(figure_width, 6)\n",
    "m, r = curve_builder.get_instrument_rates(price_ladder.sublist('USDLIBOR3M'))\n",
    "m = [exceldate_to_pydate(int(i)) for i in m]\n",
    "title('USDLIBOR3M instrument par-rates')\n",
    "linestyle(' '), plot(m,r,marker='.', label='USDLIBOR3M instrument par-rates')\n",
    "linestyle('-'), pricing_curvemap['USDLIBOR3M'].plot()\n",
    "legend();"
   ]
  },
  {
   "cell_type": "code",
   "execution_count": null,
   "metadata": {},
   "outputs": [],
   "source": [
    "#price ladder\n",
    "map = defaultdict(set)\n",
    "for row in curve_builder.df_curves.iterrows():\n",
    "    curve, stage = row[0], row[1]['Solve Stage']\n",
    "    map[stage].add(curve)\n",
    "stages = [map[i] for i in list(sorted(map))]\n",
    "stages\n",
    "stages[1]"
   ]
  },
  {
   "cell_type": "code",
   "execution_count": null,
   "metadata": {},
   "outputs": [],
   "source": [
    "curve_builder = CurveBuilder('engine_usd_gbp.xlsx', eval_date)\n",
    "curvemap = curve_builder.create_initial_curvemap(0.02)\n",
    "instrument_prices = curve_builder.parse_instrument_prices(price_ladder)"
   ]
  },
  {
   "cell_type": "code",
   "execution_count": null,
   "metadata": {},
   "outputs": [],
   "source": [
    "curves_for_stage = stages[1]\n",
    "\n",
    "instruments_for_stage = curve_builder.get_instruments_for_stage(curves_for_stage)\n",
    "dofs = curvemap.get_all_dofs(curves_for_stage)\n",
    "\n",
    "for i in instruments_for_stage:\n",
    "    print(i)\n",
    "    r_actual = i.calc_par_rate(curvemap)\n",
    "    price = instrument_prices[i.name_]\n",
    "    r_target = i.par_rate_from_price(price)\n",
    "    print(r_actual,price,r_target)\n",
    "\n",
    "arguments = (curve_builder, curvemap, instrument_prices, curves_for_stage, instruments_for_stage)\n",
    "bounds = (zeros(len(dofs)), numpy.inf * ones(len(dofs)))\n",
    "solution = scipy.optimize.least_squares(fun=calc_residuals, x0=dofs, args=arguments, bounds=bounds)\n",
    "print(solution.x)\n",
    "assert isinstance(solution, scipy.optimize.OptimizeResult)\n",
    "\n",
    "if not solution.success:\n",
    "    raise BaseException(solution.message)\n",
    "curvemap.set_all_dofs(curves_for_stage, solution.x)"
   ]
  },
  {
   "cell_type": "code",
   "execution_count": null,
   "metadata": {},
   "outputs": [],
   "source": [
    "curve = curvemap.curves_['USDLIBOR3M']\n",
    "type(curve)"
   ]
  },
  {
   "cell_type": "markdown",
   "metadata": {},
   "source": [
    "### Curve Building\n",
    "Build a brand new collection of curves from the instrument prices. This will take few seconds to complete ... "
   ]
  },
  {
   "cell_type": "code",
   "execution_count": null,
   "metadata": {
    "scrolled": false
   },
   "outputs": [],
   "source": [
    "build_output = curve_builder.build_curves(price_ladder)"
   ]
  },
  {
   "cell_type": "markdown",
   "metadata": {},
   "source": [
    "Below is the comparison of curves which we have just built (**solid lines**) with pricing curves (**dotted lines**). These lines should be as close to each other as possible."
   ]
  },
  {
   "cell_type": "code",
   "execution_count": null,
   "metadata": {
    "scrolled": false
   },
   "outputs": [],
   "source": [
    "# Display:\n",
    "figsize(figure_width, 6)\n",
    "title('Curvebuilder output')\n",
    "linestyle('solid'), build_output.output_curvemap.plot(), legend()\n",
    "linestyle('dotted'), pricing_curvemap.plot();"
   ]
  },
  {
   "cell_type": "markdown",
   "metadata": {},
   "source": [
    "### Instrument/Pillar Jacobian Matrix\n",
    "The optimizer is using gradient-descent method to minimize error between instrument par-rates calculated from the curves which are subject to this optimization and the input instrument par-rates. In order to do this, optimizer calculates derivative ${\\delta (I-I') / \\delta P}$, where $I$ is the actual instrument par-rate, $I'$ is the target instrument par-rate and $P$ is the pillar value from the curve (practically speaking, the discount factor).\n",
    "\n",
    "Jacobian matrix which is a by-product of the curve building process can be then used for risk calculation purposes and it will be illustrated lated."
   ]
  },
  {
   "cell_type": "code",
   "execution_count": null,
   "metadata": {},
   "outputs": [],
   "source": [
    "jacobian_dPdI = inv(build_output.jacobian_dIdP)\n",
    "# Display:\n",
    "figsize(figure_width, 8)\n",
    "title(\"Jacobian Matrix\"), xlabel('Pillars'), ylabel('Instruments')\n",
    "imshow(jacobian_dPdI), colorbar();"
   ]
  },
  {
   "cell_type": "markdown",
   "metadata": {},
   "source": [
    "## Risk Calculator\n",
    "Risk calculator is constructed from the **curve builder** (which contains curve definitions and market conventions) and **build output** (which contains curves and the jacobian matrix)."
   ]
  },
  {
   "cell_type": "code",
   "execution_count": null,
   "metadata": {
    "scrolled": false
   },
   "outputs": [],
   "source": [
    "risk_calculator = RiskCalculator(curve_builder, build_output)"
   ]
  },
  {
   "cell_type": "markdown",
   "metadata": {},
   "source": [
    "Let's define a convenience function which will bump par-rate of a specific instrument by the given amount of basis points and visualise the effect on all curves."
   ]
  },
  {
   "cell_type": "code",
   "execution_count": null,
   "metadata": {},
   "outputs": [],
   "source": [
    "def visualise_bump(instrument_search_string, bumpsize):\n",
    "    instruments, bumpsize = risk_calculator.find_instruments(instrument_search_string), bumpsize  \n",
    "    curvemap_bump = risk_calculator.get_bumped_curvemap(instruments, bumpsize, BumpType.JACOBIAN_REBUILD)\n",
    "\n",
    "    # Display:\n",
    "    figsize(figure_width, 6)\n",
    "    linestyle('solid'), build_output.output_curvemap.plot(), legend()\n",
    "    linestyle('dashed'), curvemap_bump.plot()\n",
    "    title(\"Effect of bumping instrument %s\" % instrument_search_string)"
   ]
  },
  {
   "cell_type": "markdown",
   "metadata": {},
   "source": [
    "### Bumping Market Instruments"
   ]
  },
  {
   "cell_type": "markdown",
   "metadata": {},
   "source": [
    "Bumping **market instruments** (such as those which define USD LIBOR 3M neutral curve) will cause parallel shift of all other curves which are defined as a basis from this curve"
   ]
  },
  {
   "cell_type": "code",
   "execution_count": null,
   "metadata": {
    "scrolled": false
   },
   "outputs": [],
   "source": [
    "visualise_bump('USDLIBOR3M__Swap__20Y', 1e-4)"
   ]
  },
  {
   "cell_type": "code",
   "execution_count": null,
   "metadata": {},
   "outputs": [],
   "source": [
    "visualise_bump('USDLIBOR3M.*', 15e-4)"
   ]
  },
  {
   "cell_type": "markdown",
   "metadata": {},
   "source": [
    "## Bumping Basis Instruments"
   ]
  },
  {
   "cell_type": "markdown",
   "metadata": {},
   "source": [
    "Bumping **basis instruments** (USD LIBOR 6M) will cause movement in a USD LIBOR 6M basis curve"
   ]
  },
  {
   "cell_type": "code",
   "execution_count": null,
   "metadata": {
    "scrolled": false
   },
   "outputs": [],
   "source": [
    "visualise_bump('USDLIBOR6M__BasisSwap__20Y', 1e-4)"
   ]
  },
  {
   "cell_type": "code",
   "execution_count": null,
   "metadata": {
    "scrolled": false
   },
   "outputs": [],
   "source": [
    "visualise_bump('USDLIBOR6M.*', 15e-4)"
   ]
  }
 ],
 "metadata": {
  "anaconda-cloud": {},
  "kernelspec": {
   "display_name": "Python 3",
   "language": "python",
   "name": "python3"
  },
  "language_info": {
   "codemirror_mode": {
    "name": "ipython",
    "version": 3
   },
   "file_extension": ".py",
   "mimetype": "text/x-python",
   "name": "python",
   "nbconvert_exporter": "python",
   "pygments_lexer": "ipython3",
   "version": "3.6.6"
  }
 },
 "nbformat": 4,
 "nbformat_minor": 1
}
